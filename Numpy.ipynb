{
 "cells": [
  {
   "cell_type": "markdown",
   "id": "56427432",
   "metadata": {},
   "source": [
    "# Numpy basics"
   ]
  },
  {
   "cell_type": "markdown",
   "id": "85c7d9a4",
   "metadata": {},
   "source": [
    "## Install numpy"
   ]
  },
  {
   "cell_type": "code",
   "execution_count": 6,
   "id": "bf85f988",
   "metadata": {
    "scrolled": true
   },
   "outputs": [
    {
     "name": "stdout",
     "output_type": "stream",
     "text": [
      "Requirement already satisfied: numpy in c:\\users\\jisma\\appdata\\local\\programs\\python\\python311\\lib\\site-packages (1.24.3)Note: you may need to restart the kernel to use updated packages.\n",
      "\n"
     ]
    },
    {
     "name": "stderr",
     "output_type": "stream",
     "text": [
      "\n",
      "[notice] A new release of pip available: 22.3 -> 23.1.2\n",
      "[notice] To update, run: python.exe -m pip install --upgrade pip\n"
     ]
    }
   ],
   "source": [
    "pip install numpy"
   ]
  },
  {
   "cell_type": "markdown",
   "id": "30e4cde4",
   "metadata": {},
   "source": [
    "## Importing numpy and array creation"
   ]
  },
  {
   "cell_type": "code",
   "execution_count": 7,
   "id": "a3776890",
   "metadata": {},
   "outputs": [],
   "source": [
    "import numpy as np\n",
    "arr1=np.array([1,2,3,4,5],dtype=np.int32)"
   ]
  },
  {
   "cell_type": "code",
   "execution_count": 8,
   "id": "cded4234",
   "metadata": {},
   "outputs": [
    {
     "data": {
      "text/plain": [
       "array([1, 2, 3, 4, 5])"
      ]
     },
     "execution_count": 8,
     "metadata": {},
     "output_type": "execute_result"
    }
   ],
   "source": [
    "arr1"
   ]
  },
  {
   "cell_type": "markdown",
   "id": "77bca235",
   "metadata": {},
   "source": [
    "## Type of Array"
   ]
  },
  {
   "cell_type": "code",
   "execution_count": 9,
   "id": "1a200963",
   "metadata": {},
   "outputs": [
    {
     "data": {
      "text/plain": [
       "dtype('int32')"
      ]
     },
     "execution_count": 9,
     "metadata": {},
     "output_type": "execute_result"
    }
   ],
   "source": [
    "arr1.dtype"
   ]
  },
  {
   "cell_type": "markdown",
   "id": "00f2f490",
   "metadata": {},
   "source": [
    "## 2D Array Creation"
   ]
  },
  {
   "cell_type": "code",
   "execution_count": 10,
   "id": "770a42ad",
   "metadata": {},
   "outputs": [],
   "source": [
    "arr2=np.array([[1,2,3,4],[5,6,7,8]])"
   ]
  },
  {
   "cell_type": "code",
   "execution_count": 11,
   "id": "ead87087",
   "metadata": {},
   "outputs": [
    {
     "data": {
      "text/plain": [
       "array([[1, 2, 3, 4],\n",
       "       [5, 6, 7, 8]])"
      ]
     },
     "execution_count": 11,
     "metadata": {},
     "output_type": "execute_result"
    }
   ],
   "source": [
    "arr2"
   ]
  },
  {
   "cell_type": "markdown",
   "id": "077eb258",
   "metadata": {},
   "source": [
    "## 3D Array "
   ]
  },
  {
   "cell_type": "code",
   "execution_count": 12,
   "id": "e5946125",
   "metadata": {},
   "outputs": [],
   "source": [
    "arr3=np.array([[[1,2,3,4],[5,6,7,8]],[[9,10,11,12],[13,14,15,16]]])"
   ]
  },
  {
   "cell_type": "code",
   "execution_count": 13,
   "id": "b500bf9b",
   "metadata": {},
   "outputs": [
    {
     "data": {
      "text/plain": [
       "array([[[ 1,  2,  3,  4],\n",
       "        [ 5,  6,  7,  8]],\n",
       "\n",
       "       [[ 9, 10, 11, 12],\n",
       "        [13, 14, 15, 16]]])"
      ]
     },
     "execution_count": 13,
     "metadata": {},
     "output_type": "execute_result"
    }
   ],
   "source": [
    "arr3"
   ]
  },
  {
   "cell_type": "markdown",
   "id": "3864bce4",
   "metadata": {},
   "source": [
    "## Array Dimension"
   ]
  },
  {
   "cell_type": "code",
   "execution_count": 14,
   "id": "783dc002",
   "metadata": {},
   "outputs": [
    {
     "data": {
      "text/plain": [
       "3"
      ]
     },
     "execution_count": 14,
     "metadata": {},
     "output_type": "execute_result"
    }
   ],
   "source": [
    "arr3.ndim"
   ]
  },
  {
   "cell_type": "code",
   "execution_count": 15,
   "id": "f11ec4d5",
   "metadata": {},
   "outputs": [],
   "source": [
    "arr=np.array([\n",
    "    [[1,2,3,4],[5,6,7,8]],\n",
    "    [[9,10,11,12],[13,14,15,16]]\n",
    "])"
   ]
  },
  {
   "cell_type": "code",
   "execution_count": 16,
   "id": "6804975c",
   "metadata": {},
   "outputs": [
    {
     "data": {
      "text/plain": [
       "array([[[ 1,  2,  3,  4],\n",
       "        [ 5,  6,  7,  8]],\n",
       "\n",
       "       [[ 9, 10, 11, 12],\n",
       "        [13, 14, 15, 16]]])"
      ]
     },
     "execution_count": 16,
     "metadata": {},
     "output_type": "execute_result"
    }
   ],
   "source": [
    "arr"
   ]
  },
  {
   "cell_type": "code",
   "execution_count": 17,
   "id": "41c1f66e",
   "metadata": {},
   "outputs": [
    {
     "data": {
      "text/plain": [
       "3"
      ]
     },
     "execution_count": 17,
     "metadata": {},
     "output_type": "execute_result"
    }
   ],
   "source": [
    "arr.ndim\n"
   ]
  },
  {
   "cell_type": "code",
   "execution_count": 18,
   "id": "7fbf6a4b",
   "metadata": {},
   "outputs": [
    {
     "name": "stdout",
     "output_type": "stream",
     "text": [
      "[[[1 2 3]]]\n",
      "3\n"
     ]
    }
   ],
   "source": [
    "import numpy as np\n",
    "arr3=np.array([[[1,2,3]]])\n",
    "print(arr3)\n",
    "print(arr3.ndim)"
   ]
  },
  {
   "cell_type": "markdown",
   "id": "951878b4",
   "metadata": {},
   "source": [
    "## Array Shape\n"
   ]
  },
  {
   "cell_type": "code",
   "execution_count": 19,
   "id": "86bc6b65",
   "metadata": {
    "scrolled": false
   },
   "outputs": [
    {
     "data": {
      "text/plain": [
       "(2, 2, 4)"
      ]
     },
     "execution_count": 19,
     "metadata": {},
     "output_type": "execute_result"
    }
   ],
   "source": [
    "arr.shape"
   ]
  },
  {
   "cell_type": "markdown",
   "id": "3e6b679c",
   "metadata": {},
   "source": [
    "## Array Size"
   ]
  },
  {
   "cell_type": "code",
   "execution_count": 20,
   "id": "507805fb",
   "metadata": {
    "scrolled": true
   },
   "outputs": [
    {
     "data": {
      "text/plain": [
       "16"
      ]
     },
     "execution_count": 20,
     "metadata": {},
     "output_type": "execute_result"
    }
   ],
   "source": [
    "arr.size"
   ]
  },
  {
   "cell_type": "markdown",
   "id": "9da6a346",
   "metadata": {},
   "source": [
    "## 4D Array"
   ]
  },
  {
   "cell_type": "code",
   "execution_count": 21,
   "id": "2ae9668e",
   "metadata": {},
   "outputs": [],
   "source": [
    "arr4=np.array([\n",
    "    [\n",
    "        [\n",
    "            [1,2,3],[4,5,6]\n",
    "        ]\n",
    "    ],\n",
    "    [\n",
    "        [\n",
    "            [7,8,9],[10,11,12]\n",
    "        ]\n",
    "    ]\n",
    "])"
   ]
  },
  {
   "cell_type": "code",
   "execution_count": 22,
   "id": "7896d9e3",
   "metadata": {},
   "outputs": [
    {
     "data": {
      "text/plain": [
       "4"
      ]
     },
     "execution_count": 22,
     "metadata": {},
     "output_type": "execute_result"
    }
   ],
   "source": [
    "arr4.ndim"
   ]
  },
  {
   "cell_type": "markdown",
   "id": "5d8d4a30",
   "metadata": {},
   "source": [
    "## Special Numpy Arrays"
   ]
  },
  {
   "cell_type": "markdown",
   "id": "eff00646",
   "metadata": {},
   "source": [
    "## zero array"
   ]
  },
  {
   "cell_type": "code",
   "execution_count": 23,
   "id": "fcff0e25",
   "metadata": {},
   "outputs": [
    {
     "data": {
      "text/plain": [
       "array([[0., 0., 0.],\n",
       "       [0., 0., 0.]])"
      ]
     },
     "execution_count": 23,
     "metadata": {},
     "output_type": "execute_result"
    }
   ],
   "source": [
    "np.zeros((2,3))"
   ]
  },
  {
   "cell_type": "markdown",
   "id": "fdba7d1c",
   "metadata": {},
   "source": [
    "## Ones array"
   ]
  },
  {
   "cell_type": "code",
   "execution_count": 24,
   "id": "ec446391",
   "metadata": {},
   "outputs": [],
   "source": [
    "import numpy as np\n",
    "array1=np.ones((3,4))"
   ]
  },
  {
   "cell_type": "code",
   "execution_count": 25,
   "id": "61b5cfde",
   "metadata": {},
   "outputs": [
    {
     "data": {
      "text/plain": [
       "array([[1., 1., 1., 1.],\n",
       "       [1., 1., 1., 1.],\n",
       "       [1., 1., 1., 1.]])"
      ]
     },
     "execution_count": 25,
     "metadata": {},
     "output_type": "execute_result"
    }
   ],
   "source": [
    "array1"
   ]
  },
  {
   "cell_type": "markdown",
   "id": "30f02489",
   "metadata": {},
   "source": [
    "## Empty array"
   ]
  },
  {
   "cell_type": "code",
   "execution_count": 26,
   "id": "925ce65a",
   "metadata": {},
   "outputs": [],
   "source": [
    "e_array=np.empty((3,4))"
   ]
  },
  {
   "cell_type": "code",
   "execution_count": 27,
   "id": "ff0a4bd6",
   "metadata": {},
   "outputs": [
    {
     "data": {
      "text/plain": [
       "array([[1., 1., 1., 1.],\n",
       "       [1., 1., 1., 1.],\n",
       "       [1., 1., 1., 1.]])"
      ]
     },
     "execution_count": 27,
     "metadata": {},
     "output_type": "execute_result"
    }
   ],
   "source": [
    "e_array"
   ]
  },
  {
   "cell_type": "markdown",
   "id": "d05c546d",
   "metadata": {},
   "source": [
    "## Identity array"
   ]
  },
  {
   "cell_type": "code",
   "execution_count": 28,
   "id": "b06b3000",
   "metadata": {},
   "outputs": [
    {
     "data": {
      "text/plain": [
       "array([[1., 0., 0.],\n",
       "       [0., 1., 0.],\n",
       "       [0., 0., 1.]])"
      ]
     },
     "execution_count": 28,
     "metadata": {},
     "output_type": "execute_result"
    }
   ],
   "source": [
    "i_array1=np.identity(3)\n",
    "i_array1"
   ]
  },
  {
   "cell_type": "code",
   "execution_count": 29,
   "id": "725c4f00",
   "metadata": {},
   "outputs": [
    {
     "data": {
      "text/plain": [
       "array([[1., 0.],\n",
       "       [0., 1.]])"
      ]
     },
     "execution_count": 29,
     "metadata": {},
     "output_type": "execute_result"
    }
   ],
   "source": [
    "i_array2=np.eye(2)\n",
    "i_array2"
   ]
  },
  {
   "cell_type": "markdown",
   "id": "f342990d",
   "metadata": {},
   "source": [
    "## Random array"
   ]
  },
  {
   "cell_type": "code",
   "execution_count": 30,
   "id": "7510fbaa",
   "metadata": {},
   "outputs": [
    {
     "data": {
      "text/plain": [
       "array([0.01357972, 0.50659758, 0.13120899, 0.98094177, 0.73609108])"
      ]
     },
     "execution_count": 30,
     "metadata": {},
     "output_type": "execute_result"
    }
   ],
   "source": [
    "rand_array1=np.random.rand(5)\n",
    "rand_array1"
   ]
  },
  {
   "cell_type": "code",
   "execution_count": 31,
   "id": "85ad35f2",
   "metadata": {},
   "outputs": [
    {
     "data": {
      "text/plain": [
       "array([[0.86852569, 0.84359154, 0.59321254, 0.00570842],\n",
       "       [0.08681175, 0.36045509, 0.83987859, 0.5083052 ],\n",
       "       [0.10644627, 0.85683943, 0.07374469, 0.5117372 ]])"
      ]
     },
     "execution_count": 31,
     "metadata": {},
     "output_type": "execute_result"
    }
   ],
   "source": [
    "rand_array2=np.random.rand(3,4)\n",
    "rand_array2"
   ]
  },
  {
   "cell_type": "markdown",
   "id": "fddd9775",
   "metadata": {},
   "source": [
    "## Range array"
   ]
  },
  {
   "cell_type": "code",
   "execution_count": 32,
   "id": "8b6f9260",
   "metadata": {},
   "outputs": [
    {
     "data": {
      "text/plain": [
       "array([0, 1, 2, 3, 4, 5, 6, 7, 8, 9])"
      ]
     },
     "execution_count": 32,
     "metadata": {},
     "output_type": "execute_result"
    }
   ],
   "source": [
    "range_array1=np.arange(10)\n",
    "range_array1"
   ]
  },
  {
   "cell_type": "code",
   "execution_count": 33,
   "id": "f472e7c5",
   "metadata": {},
   "outputs": [
    {
     "data": {
      "text/plain": [
       "array([ 5,  7,  9, 11, 13])"
      ]
     },
     "execution_count": 33,
     "metadata": {},
     "output_type": "execute_result"
    }
   ],
   "source": [
    "range_array2=np.arange(5,15,2)\n",
    "range_array2"
   ]
  },
  {
   "cell_type": "markdown",
   "id": "c1e4a4b4",
   "metadata": {},
   "source": [
    "## Boolean array"
   ]
  },
  {
   "cell_type": "code",
   "execution_count": 34,
   "id": "1002493b",
   "metadata": {},
   "outputs": [
    {
     "name": "stdout",
     "output_type": "stream",
     "text": [
      "[False False False  True  True]\n"
     ]
    }
   ],
   "source": [
    "bool_array=np.array([1,2,3,4,5])\n",
    "condition=bool_array>3\n",
    "print(condition)"
   ]
  },
  {
   "cell_type": "markdown",
   "id": "79f6599c",
   "metadata": {},
   "source": [
    "## full()"
   ]
  },
  {
   "cell_type": "code",
   "execution_count": 35,
   "id": "87e4e7dd",
   "metadata": {},
   "outputs": [
    {
     "data": {
      "text/plain": [
       "array([[15, 15, 15],\n",
       "       [15, 15, 15]])"
      ]
     },
     "execution_count": 35,
     "metadata": {},
     "output_type": "execute_result"
    }
   ],
   "source": [
    "f_array=np.full([2,3],15,dtype=int)\n",
    "f_array"
   ]
  },
  {
   "cell_type": "markdown",
   "id": "bc742a42",
   "metadata": {},
   "source": [
    "## linspace()"
   ]
  },
  {
   "cell_type": "code",
   "execution_count": 39,
   "id": "524615c5",
   "metadata": {},
   "outputs": [
    {
     "data": {
      "text/plain": [
       "array([ 0. ,  2.5,  5. ,  7.5, 10. ])"
      ]
     },
     "execution_count": 39,
     "metadata": {},
     "output_type": "execute_result"
    }
   ],
   "source": [
    "lin_array1=np.linspace(0,10,5)\n",
    "lin_array1"
   ]
  },
  {
   "cell_type": "markdown",
   "id": "b233fec8",
   "metadata": {},
   "source": [
    "## reshape()"
   ]
  },
  {
   "cell_type": "code",
   "execution_count": 37,
   "id": "5a2f6031",
   "metadata": {},
   "outputs": [
    {
     "data": {
      "text/plain": [
       "array([[10., 12., 14.],\n",
       "       [16., 18., 20.]])"
      ]
     },
     "execution_count": 37,
     "metadata": {},
     "output_type": "execute_result"
    }
   ],
   "source": [
    "re_array1=np.linspace(10,20,6).reshape(2,3)\n",
    "re_array1"
   ]
  },
  {
   "cell_type": "code",
   "execution_count": 38,
   "id": "9f0bfc0f",
   "metadata": {
    "scrolled": true
   },
   "outputs": [
    {
     "ename": "ValueError",
     "evalue": "cannot reshape array of size 6 into shape (3,3)",
     "output_type": "error",
     "traceback": [
      "\u001b[1;31m---------------------------------------------------------------------------\u001b[0m",
      "\u001b[1;31mValueError\u001b[0m                                Traceback (most recent call last)",
      "Cell \u001b[1;32mIn [38], line 1\u001b[0m\n\u001b[1;32m----> 1\u001b[0m re_array2\u001b[38;5;241m=\u001b[39m\u001b[43mnp\u001b[49m\u001b[38;5;241;43m.\u001b[39;49m\u001b[43mlinspace\u001b[49m\u001b[43m(\u001b[49m\u001b[38;5;241;43m10\u001b[39;49m\u001b[43m,\u001b[49m\u001b[38;5;241;43m20\u001b[39;49m\u001b[43m,\u001b[49m\u001b[38;5;241;43m6\u001b[39;49m\u001b[43m)\u001b[49m\u001b[38;5;241;43m.\u001b[39;49m\u001b[43mreshape\u001b[49m\u001b[43m(\u001b[49m\u001b[38;5;241;43m3\u001b[39;49m\u001b[43m,\u001b[49m\u001b[38;5;241;43m3\u001b[39;49m\u001b[43m)\u001b[49m\n\u001b[0;32m      2\u001b[0m re_array2\n",
      "\u001b[1;31mValueError\u001b[0m: cannot reshape array of size 6 into shape (3,3)"
     ]
    }
   ],
   "source": [
    "re_array2=np.linspace(10,20,6).reshape(3,3)\n",
    "re_array2"
   ]
  },
  {
   "cell_type": "code",
   "execution_count": null,
   "id": "6f47f08a",
   "metadata": {},
   "outputs": [],
   "source": [
    "re_array3=np.linspace(10,20,6).reshape(6,1)\n",
    "re_array3"
   ]
  },
  {
   "cell_type": "markdown",
   "id": "1afbd9f5",
   "metadata": {},
   "source": [
    "## arange() and reshape()"
   ]
  },
  {
   "cell_type": "code",
   "execution_count": null,
   "id": "21f83b64",
   "metadata": {},
   "outputs": [],
   "source": [
    "np.arange(1,20,2).reshape(2,5)"
   ]
  },
  {
   "cell_type": "code",
   "execution_count": null,
   "id": "0f3be762",
   "metadata": {},
   "outputs": [],
   "source": [
    "np.arange(100,300,5).size"
   ]
  },
  {
   "cell_type": "code",
   "execution_count": null,
   "id": "820ed0a9",
   "metadata": {},
   "outputs": [],
   "source": [
    "np.arange(100,300,5).reshape(5,8)"
   ]
  },
  {
   "cell_type": "markdown",
   "id": "b95035ea",
   "metadata": {},
   "source": [
    "## Array arithmetic"
   ]
  },
  {
   "cell_type": "code",
   "execution_count": 40,
   "id": "0052988d",
   "metadata": {},
   "outputs": [
    {
     "data": {
      "text/plain": [
       "array([25, 50, 56, 58])"
      ]
     },
     "execution_count": 40,
     "metadata": {},
     "output_type": "execute_result"
    }
   ],
   "source": [
    "arith_array=np.array([25,50,56,58])\n",
    "arith_array"
   ]
  },
  {
   "cell_type": "code",
   "execution_count": 41,
   "id": "2389f721",
   "metadata": {},
   "outputs": [
    {
     "name": "stdout",
     "output_type": "stream",
     "text": [
      "[30 55 61 63]\n"
     ]
    }
   ],
   "source": [
    "print(arith_array+5)"
   ]
  },
  {
   "cell_type": "code",
   "execution_count": 43,
   "id": "5fb1c0fd",
   "metadata": {},
   "outputs": [
    {
     "name": "stdout",
     "output_type": "stream",
     "text": [
      "[20 45 51 53]\n"
     ]
    }
   ],
   "source": [
    "print(arith_array-5)"
   ]
  },
  {
   "cell_type": "code",
   "execution_count": 44,
   "id": "3aa0bbe6",
   "metadata": {},
   "outputs": [
    {
     "name": "stdout",
     "output_type": "stream",
     "text": [
      "[ 50 100 112 116]\n"
     ]
    }
   ],
   "source": [
    "print(arith_array*2)"
   ]
  },
  {
   "cell_type": "code",
   "execution_count": 45,
   "id": "8236761b",
   "metadata": {},
   "outputs": [
    {
     "name": "stdout",
     "output_type": "stream",
     "text": [
      "[ 6.25 12.5  14.   14.5 ]\n"
     ]
    }
   ],
   "source": [
    "print(arith_array/4)"
   ]
  },
  {
   "cell_type": "markdown",
   "id": "1c951676",
   "metadata": {},
   "source": [
    "## Indexing and Slicing\n"
   ]
  },
  {
   "cell_type": "markdown",
   "id": "db53f9f5",
   "metadata": {},
   "source": [
    "### 1D Array"
   ]
  },
  {
   "cell_type": "markdown",
   "id": "fb3b8632",
   "metadata": {},
   "source": [
    "### Indexing / Accessing elements"
   ]
  },
  {
   "cell_type": "code",
   "execution_count": 2,
   "id": "25612156",
   "metadata": {},
   "outputs": [
    {
     "name": "stdout",
     "output_type": "stream",
     "text": [
      "[1 2 3 4 5]\n",
      "1\n",
      "4\n"
     ]
    }
   ],
   "source": [
    "import numpy as np\n",
    "ind_array1=np.array([1,2,3,4,5])\n",
    "print(ind_array1)\n",
    "print(ind_array1[0])\n",
    "print(ind_array1[3])"
   ]
  },
  {
   "cell_type": "markdown",
   "id": "a976ea22",
   "metadata": {},
   "source": [
    "### Slicing"
   ]
  },
  {
   "cell_type": "code",
   "execution_count": 3,
   "id": "5a7054bb",
   "metadata": {},
   "outputs": [
    {
     "name": "stdout",
     "output_type": "stream",
     "text": [
      "[2 3 4]\n"
     ]
    }
   ],
   "source": [
    "print(ind_array1[1:4])"
   ]
  },
  {
   "cell_type": "code",
   "execution_count": 4,
   "id": "5d788a2b",
   "metadata": {},
   "outputs": [
    {
     "name": "stdout",
     "output_type": "stream",
     "text": [
      "[1 2 3]\n"
     ]
    }
   ],
   "source": [
    "print(ind_array1[:3])"
   ]
  },
  {
   "cell_type": "code",
   "execution_count": 5,
   "id": "a770f061",
   "metadata": {},
   "outputs": [
    {
     "name": "stdout",
     "output_type": "stream",
     "text": [
      "[3 4 5]\n"
     ]
    }
   ],
   "source": [
    "print(ind_array1[2:])"
   ]
  },
  {
   "cell_type": "markdown",
   "id": "e11b647d",
   "metadata": {},
   "source": [
    "### Modifying array elements"
   ]
  },
  {
   "cell_type": "code",
   "execution_count": 6,
   "id": "63737ec5",
   "metadata": {},
   "outputs": [
    {
     "name": "stdout",
     "output_type": "stream",
     "text": [
      "[10 20 30]\n",
      "[10 15 30]\n"
     ]
    }
   ],
   "source": [
    "mod_array=np.array([10,20,30])\n",
    "print(mod_array)\n",
    "mod_array[1]=15\n",
    "print(mod_array)"
   ]
  },
  {
   "cell_type": "markdown",
   "id": "552c834e",
   "metadata": {},
   "source": [
    "### 2D Array"
   ]
  },
  {
   "cell_type": "code",
   "execution_count": 8,
   "id": "96625e4c",
   "metadata": {},
   "outputs": [
    {
     "data": {
      "text/plain": [
       "array([[1, 2, 3],\n",
       "       [4, 5, 6],\n",
       "       [7, 8, 9]])"
      ]
     },
     "execution_count": 8,
     "metadata": {},
     "output_type": "execute_result"
    }
   ],
   "source": [
    "ind_array2=np.array([[1,2,3],[4,5,6],[7,8,9]])\n",
    "ind_array2"
   ]
  },
  {
   "cell_type": "markdown",
   "id": "0c046873",
   "metadata": {},
   "source": [
    "### Indexing / Accessing elements"
   ]
  },
  {
   "cell_type": "code",
   "execution_count": 9,
   "id": "a9763cd4",
   "metadata": {},
   "outputs": [
    {
     "name": "stdout",
     "output_type": "stream",
     "text": [
      "2\n",
      "9\n"
     ]
    }
   ],
   "source": [
    "print(ind_array2[0,1])\n",
    "print(ind_array2[2,2])"
   ]
  },
  {
   "cell_type": "code",
   "execution_count": 10,
   "id": "4e96ae6c",
   "metadata": {},
   "outputs": [
    {
     "name": "stdout",
     "output_type": "stream",
     "text": [
      "[[4 5]\n",
      " [7 8]]\n"
     ]
    }
   ],
   "source": [
    "print(ind_array2[1:3,0:2])"
   ]
  },
  {
   "cell_type": "code",
   "execution_count": 11,
   "id": "3adf21c4",
   "metadata": {},
   "outputs": [
    {
     "name": "stdout",
     "output_type": "stream",
     "text": [
      "2\n"
     ]
    }
   ],
   "source": [
    "ind_array3=np.array([[1,2,3],[4,5,6]])\n",
    "print(ind_array3[0,1])"
   ]
  },
  {
   "cell_type": "code",
   "execution_count": 12,
   "id": "ffb25e77",
   "metadata": {},
   "outputs": [
    {
     "name": "stdout",
     "output_type": "stream",
     "text": [
      "[2 5]\n"
     ]
    }
   ],
   "source": [
    "print(ind_array3[:,1])"
   ]
  },
  {
   "cell_type": "code",
   "execution_count": 13,
   "id": "c946b943",
   "metadata": {},
   "outputs": [
    {
     "name": "stdout",
     "output_type": "stream",
     "text": [
      "[5 6]\n"
     ]
    }
   ],
   "source": [
    "print(ind_array3[1,1:])"
   ]
  },
  {
   "cell_type": "code",
   "execution_count": 14,
   "id": "4693ef26",
   "metadata": {},
   "outputs": [
    {
     "name": "stdout",
     "output_type": "stream",
     "text": [
      "[[1 2]\n",
      " [4 5]]\n"
     ]
    }
   ],
   "source": [
    "print(ind_array3[:2,:2])"
   ]
  },
  {
   "cell_type": "markdown",
   "id": "0af4bc42",
   "metadata": {},
   "source": [
    "## Basic Operations\n"
   ]
  },
  {
   "cell_type": "markdown",
   "id": "79804101",
   "metadata": {},
   "source": [
    "### Array aggregation"
   ]
  },
  {
   "cell_type": "code",
   "execution_count": 46,
   "id": "f7c8d0b3",
   "metadata": {},
   "outputs": [
    {
     "name": "stdout",
     "output_type": "stream",
     "text": [
      "55\n"
     ]
    }
   ],
   "source": [
    "#sum\n",
    "aggr_array=np.array([5,10,15,25])\n",
    "print(aggr_array.sum())"
   ]
  },
  {
   "cell_type": "code",
   "execution_count": 48,
   "id": "c913d58d",
   "metadata": {},
   "outputs": [
    {
     "name": "stdout",
     "output_type": "stream",
     "text": [
      "55\n"
     ]
    }
   ],
   "source": [
    "print(aggr_array.sum(axis=0))"
   ]
  },
  {
   "cell_type": "code",
   "execution_count": 49,
   "id": "89ea0281",
   "metadata": {},
   "outputs": [
    {
     "name": "stdout",
     "output_type": "stream",
     "text": [
      "[55]\n"
     ]
    }
   ],
   "source": [
    "aggr_array1=np.array([[5,10,15,25]])\n",
    "print(aggr_array1.sum(axis=1))                   "
   ]
  },
  {
   "cell_type": "code",
   "execution_count": 52,
   "id": "90ee16d4",
   "metadata": {},
   "outputs": [
    {
     "name": "stdout",
     "output_type": "stream",
     "text": [
      "155\n"
     ]
    }
   ],
   "source": [
    "aggr_array2=np.array([[5,10,15,25],[10,20,30,40]])\n",
    "print(aggr_array2.sum())         "
   ]
  },
  {
   "cell_type": "code",
   "execution_count": 53,
   "id": "656ea878",
   "metadata": {},
   "outputs": [
    {
     "name": "stdout",
     "output_type": "stream",
     "text": [
      "[15 30 45 65]\n"
     ]
    }
   ],
   "source": [
    "aggr_array2=np.array([[5,10,15,25],[10,20,30,40]])\n",
    "print(aggr_array2.sum(axis=0))    "
   ]
  },
  {
   "cell_type": "code",
   "execution_count": 54,
   "id": "bbedd02a",
   "metadata": {},
   "outputs": [
    {
     "name": "stdout",
     "output_type": "stream",
     "text": [
      "[ 55 100]\n"
     ]
    }
   ],
   "source": [
    "aggr_array2=np.array([[5,10,15,25],[10,20,30,40]])\n",
    "print(aggr_array2.sum(axis=1))   "
   ]
  },
  {
   "cell_type": "code",
   "execution_count": 55,
   "id": "59190fcb",
   "metadata": {},
   "outputs": [
    {
     "name": "stdout",
     "output_type": "stream",
     "text": [
      "5\n"
     ]
    }
   ],
   "source": [
    "#min\n",
    "print(aggr_array2.min())"
   ]
  },
  {
   "cell_type": "code",
   "execution_count": 56,
   "id": "139c9a97",
   "metadata": {
    "scrolled": true
   },
   "outputs": [
    {
     "name": "stdout",
     "output_type": "stream",
     "text": [
      "40\n"
     ]
    }
   ],
   "source": [
    "#max()\n",
    "print(aggr_array2.max())"
   ]
  },
  {
   "cell_type": "code",
   "execution_count": 57,
   "id": "7609fa57",
   "metadata": {},
   "outputs": [
    {
     "name": "stdout",
     "output_type": "stream",
     "text": [
      "19.375\n"
     ]
    }
   ],
   "source": [
    "#mean\n",
    "print(aggr_array2.mean())"
   ]
  },
  {
   "cell_type": "code",
   "execution_count": 58,
   "id": "de8ee63d",
   "metadata": {},
   "outputs": [
    {
     "name": "stdout",
     "output_type": "stream",
     "text": [
      "11.02199505534275\n"
     ]
    }
   ],
   "source": [
    "#Standard deviation\n",
    "print(aggr_array2.std())"
   ]
  },
  {
   "cell_type": "markdown",
   "id": "8e82f924",
   "metadata": {},
   "source": [
    "### Join"
   ]
  },
  {
   "cell_type": "code",
   "execution_count": 15,
   "id": "77b5b3e2",
   "metadata": {},
   "outputs": [
    {
     "name": "stdout",
     "output_type": "stream",
     "text": [
      "[1 2 3 4 5 6]\n"
     ]
    }
   ],
   "source": [
    "join_array1=np.array([1,2,3])\n",
    "join_array2=np.array([4,5,6])\n",
    "join_result=np.concatenate((join_array1,join_array2))\n",
    "print(join_result)"
   ]
  },
  {
   "cell_type": "markdown",
   "id": "1039322b",
   "metadata": {},
   "source": [
    "### Search"
   ]
  },
  {
   "cell_type": "code",
   "execution_count": 16,
   "id": "be1bf542",
   "metadata": {},
   "outputs": [
    {
     "name": "stdout",
     "output_type": "stream",
     "text": [
      "(array([3, 5, 6], dtype=int64),)\n"
     ]
    }
   ],
   "source": [
    "original_array=np.array([1,2,3,4,5,4,4])\n",
    "search_item=np.where(original_array==4)\n",
    "print(search_item)"
   ]
  },
  {
   "cell_type": "code",
   "execution_count": 17,
   "id": "47f8b573",
   "metadata": {},
   "outputs": [
    {
     "name": "stdout",
     "output_type": "stream",
     "text": [
      "(array([], dtype=int64),)\n"
     ]
    }
   ],
   "source": [
    "search_item1=np.where(original_array==6)\n",
    "print(search_item1)"
   ]
  },
  {
   "cell_type": "markdown",
   "id": "4930c4ed",
   "metadata": {},
   "source": [
    "### Split"
   ]
  },
  {
   "cell_type": "code",
   "execution_count": 18,
   "id": "abd2b6dd",
   "metadata": {},
   "outputs": [
    {
     "name": "stdout",
     "output_type": "stream",
     "text": [
      "[array([1, 2]), array([3, 4]), array([5, 6])]\n"
     ]
    }
   ],
   "source": [
    "array_to_split=np.array([1,2,3,4,5,6])\n",
    "splitted_array=np.array_split(array_to_split,3)\n",
    "print(splitted_array)"
   ]
  },
  {
   "cell_type": "code",
   "execution_count": 19,
   "id": "b5f9359c",
   "metadata": {},
   "outputs": [
    {
     "name": "stdout",
     "output_type": "stream",
     "text": [
      "[array([1, 2]), array([3]), array([4]), array([5]), array([6])]\n"
     ]
    }
   ],
   "source": [
    "splitted_array=np.array_split(array_to_split,5)\n",
    "print(splitted_array)"
   ]
  },
  {
   "cell_type": "code",
   "execution_count": 20,
   "id": "ac44c436",
   "metadata": {},
   "outputs": [
    {
     "name": "stdout",
     "output_type": "stream",
     "text": [
      "[array([1]), array([2]), array([3]), array([4]), array([5]), array([6])]\n"
     ]
    }
   ],
   "source": [
    "splitted_array=np.array_split(array_to_split,6)\n",
    "print(splitted_array)"
   ]
  },
  {
   "cell_type": "code",
   "execution_count": 21,
   "id": "817ebc96",
   "metadata": {},
   "outputs": [
    {
     "name": "stdout",
     "output_type": "stream",
     "text": [
      "[array([1]), array([2]), array([3]), array([4]), array([5]), array([6]), array([], dtype=int32)]\n"
     ]
    }
   ],
   "source": [
    "splitted_array=np.array_split(array_to_split,7)\n",
    "print(splitted_array)"
   ]
  },
  {
   "cell_type": "markdown",
   "id": "9f75dda0",
   "metadata": {},
   "source": [
    "### Sort"
   ]
  },
  {
   "cell_type": "code",
   "execution_count": 22,
   "id": "8441bb3e",
   "metadata": {},
   "outputs": [
    {
     "name": "stdout",
     "output_type": "stream",
     "text": [
      "[0 1 2 3]\n"
     ]
    }
   ],
   "source": [
    "array_to_sort=np.array([3,2,0,1])\n",
    "print(np.sort(array_to_sort))"
   ]
  },
  {
   "cell_type": "code",
   "execution_count": 23,
   "id": "3c0e5f14",
   "metadata": {},
   "outputs": [
    {
     "name": "stdout",
     "output_type": "stream",
     "text": [
      "[0 1 2 3]\n"
     ]
    }
   ],
   "source": [
    "print(np.sort(array_to_sort,axis=0))"
   ]
  },
  {
   "cell_type": "code",
   "execution_count": 24,
   "id": "97f5a6ea",
   "metadata": {},
   "outputs": [
    {
     "name": "stdout",
     "output_type": "stream",
     "text": [
      "[3 2 1 0]\n"
     ]
    }
   ],
   "source": [
    "#in reverse order\n",
    "sorted_array=np.sort(array_to_sort)\n",
    "reversed_array=sorted_array[::-1]\n",
    "print(reversed_array)"
   ]
  },
  {
   "cell_type": "markdown",
   "id": "6d3d4190",
   "metadata": {},
   "source": [
    "### Sorting - 2D array"
   ]
  },
  {
   "cell_type": "code",
   "execution_count": 25,
   "id": "7e708576",
   "metadata": {},
   "outputs": [
    {
     "name": "stdout",
     "output_type": "stream",
     "text": [
      "[[0 1 2 3]\n",
      " [2 5 6 9]]\n"
     ]
    }
   ],
   "source": [
    "array_to_sort1=np.array([[3,2,0,1],[5,2,6,9]])\n",
    "print(np.sort(array_to_sort1))"
   ]
  },
  {
   "cell_type": "code",
   "execution_count": 26,
   "id": "21c61ac3",
   "metadata": {},
   "outputs": [
    {
     "name": "stdout",
     "output_type": "stream",
     "text": [
      "[[0 1 2 3]\n",
      " [2 5 6 9]]\n"
     ]
    }
   ],
   "source": [
    "print(np.sort(array_to_sort1,axis=1))"
   ]
  },
  {
   "cell_type": "code",
   "execution_count": 27,
   "id": "debcd6f4",
   "metadata": {},
   "outputs": [
    {
     "name": "stdout",
     "output_type": "stream",
     "text": [
      "[[3 2 0 1]\n",
      " [5 2 6 9]]\n"
     ]
    }
   ],
   "source": [
    "print(np.sort(array_to_sort1,axis=0))"
   ]
  },
  {
   "cell_type": "code",
   "execution_count": 28,
   "id": "b0620b9c",
   "metadata": {},
   "outputs": [
    {
     "name": "stdout",
     "output_type": "stream",
     "text": [
      "[[ 3 10  0  1]\n",
      " [ 5 20  6  9]]\n"
     ]
    }
   ],
   "source": [
    "array_to_sort1=np.array([[5,10,6,9],[3,20,0,1]])\n",
    "print(np.sort(array_to_sort1,axis=0))"
   ]
  },
  {
   "cell_type": "markdown",
   "id": "b780ea6b",
   "metadata": {},
   "source": [
    "### Reshape"
   ]
  },
  {
   "cell_type": "code",
   "execution_count": 29,
   "id": "3634c682",
   "metadata": {},
   "outputs": [
    {
     "name": "stdout",
     "output_type": "stream",
     "text": [
      "[[ 1  2  3]\n",
      " [ 4  5  6]\n",
      " [ 7  8  9]\n",
      " [10 11 12]]\n"
     ]
    }
   ],
   "source": [
    "array_to_reshape=np.array([1,2,3,4,5,6,7,8,9,10,11,12])\n",
    "reshaped_array=array_to_reshape.reshape(4,3)\n",
    "print(reshaped_array)"
   ]
  },
  {
   "cell_type": "markdown",
   "id": "70476ae4",
   "metadata": {},
   "source": [
    "## Array Broadcasting"
   ]
  },
  {
   "cell_type": "code",
   "execution_count": 59,
   "id": "4960f39c",
   "metadata": {},
   "outputs": [
    {
     "name": "stdout",
     "output_type": "stream",
     "text": [
      "[[11 22 33]\n",
      " [14 25 36]]\n"
     ]
    }
   ],
   "source": [
    "broad_array1=np.array([[1,2,3],[4,5,6]])\n",
    "broad_array2=np.array([10,20,30])\n",
    "print(broad_array1+broad_array2)"
   ]
  },
  {
   "cell_type": "code",
   "execution_count": 61,
   "id": "7d3b4f9d",
   "metadata": {},
   "outputs": [
    {
     "ename": "ValueError",
     "evalue": "operands could not be broadcast together with shapes (2,3) (2,) ",
     "output_type": "error",
     "traceback": [
      "\u001b[1;31m---------------------------------------------------------------------------\u001b[0m",
      "\u001b[1;31mValueError\u001b[0m                                Traceback (most recent call last)",
      "Cell \u001b[1;32mIn [61], line 3\u001b[0m\n\u001b[0;32m      1\u001b[0m broad_array3\u001b[38;5;241m=\u001b[39mnp\u001b[38;5;241m.\u001b[39marray([[\u001b[38;5;241m1\u001b[39m,\u001b[38;5;241m2\u001b[39m,\u001b[38;5;241m3\u001b[39m],[\u001b[38;5;241m4\u001b[39m,\u001b[38;5;241m5\u001b[39m,\u001b[38;5;241m6\u001b[39m]])\n\u001b[0;32m      2\u001b[0m broad_array4\u001b[38;5;241m=\u001b[39mnp\u001b[38;5;241m.\u001b[39marray([\u001b[38;5;241m10\u001b[39m,\u001b[38;5;241m20\u001b[39m])\n\u001b[1;32m----> 3\u001b[0m \u001b[38;5;28mprint\u001b[39m(\u001b[43mbroad_array3\u001b[49m\u001b[38;5;241;43m+\u001b[39;49m\u001b[43mbroad_array4\u001b[49m)\n",
      "\u001b[1;31mValueError\u001b[0m: operands could not be broadcast together with shapes (2,3) (2,) "
     ]
    }
   ],
   "source": [
    "broad_array3=np.array([[1,2,3],[4,5,6]])\n",
    "broad_array4=np.array([10,20])\n",
    "print(broad_array3+broad_array4)"
   ]
  },
  {
   "cell_type": "code",
   "execution_count": 64,
   "id": "720e3980",
   "metadata": {},
   "outputs": [
    {
     "name": "stdout",
     "output_type": "stream",
     "text": [
      "[[11 22 33]\n",
      " [19 30 41]]\n"
     ]
    }
   ],
   "source": [
    "broad_array5=np.array([[1,2,3],[4,5,6]])\n",
    "broad_array6=np.array([[10,20,30],[15,25,35]])\n",
    "print(broad_array5+broad_array6)"
   ]
  },
  {
   "cell_type": "markdown",
   "id": "9e6777fd",
   "metadata": {},
   "source": [
    "## Array with Structured Data"
   ]
  },
  {
   "cell_type": "code",
   "execution_count": 80,
   "id": "de7bb793",
   "metadata": {},
   "outputs": [],
   "source": [
    "struc_array1=np.array([('Sana',20,60.5),('Mansi',21,62.3)],\n",
    "                      dtype=[('name',(np.str_,10)),('age',np.int32),('weight',np.float64)])"
   ]
  },
  {
   "cell_type": "code",
   "execution_count": 72,
   "id": "49d7e982",
   "metadata": {},
   "outputs": [
    {
     "data": {
      "text/plain": [
       "array([('Sana', 20, 60.5), ('Mansi', 21, 62.3)],\n",
       "      dtype=[('name', '<U10'), ('age', '<i4'), ('weight', '<f8')])"
      ]
     },
     "execution_count": 72,
     "metadata": {},
     "output_type": "execute_result"
    }
   ],
   "source": [
    "struc_array1"
   ]
  },
  {
   "cell_type": "code",
   "execution_count": 73,
   "id": "d6d1248f",
   "metadata": {},
   "outputs": [
    {
     "name": "stdout",
     "output_type": "stream",
     "text": [
      "['Sana' 'Mansi']\n"
     ]
    }
   ],
   "source": [
    "print(struc_array1['name'])"
   ]
  },
  {
   "cell_type": "code",
   "execution_count": 74,
   "id": "af456f42",
   "metadata": {},
   "outputs": [
    {
     "name": "stdout",
     "output_type": "stream",
     "text": [
      "[20 21]\n"
     ]
    }
   ],
   "source": [
    "print(struc_array1['age'])"
   ]
  },
  {
   "cell_type": "code",
   "execution_count": 75,
   "id": "ff5f41f6",
   "metadata": {},
   "outputs": [
    {
     "name": "stdout",
     "output_type": "stream",
     "text": [
      "[60.5 62.3]\n"
     ]
    }
   ],
   "source": [
    "print(struc_array1['weight'])"
   ]
  },
  {
   "cell_type": "markdown",
   "id": "b1c1cecd",
   "metadata": {},
   "source": [
    "#### Sorting according to 'name'"
   ]
  },
  {
   "cell_type": "code",
   "execution_count": 79,
   "id": "59e3d125",
   "metadata": {},
   "outputs": [
    {
     "name": "stdout",
     "output_type": "stream",
     "text": [
      "sorting according to name  [('Mansi', 21, 62.3) ('sana', 20, 60.5)]\n"
     ]
    }
   ],
   "source": [
    "struc_array2=np.sort(struc_array1,order='name')\n",
    "print(\"sorting according to name \",struc_array2)"
   ]
  },
  {
   "cell_type": "markdown",
   "id": "39ab6d91",
   "metadata": {},
   "source": [
    "## Copy vs View"
   ]
  },
  {
   "cell_type": "code",
   "execution_count": 81,
   "id": "2a98ef64",
   "metadata": {},
   "outputs": [
    {
     "name": "stdout",
     "output_type": "stream",
     "text": [
      "Original array  [1 2 3 4 5]\n",
      "After updation\n",
      "[42  2  3  4  5]\n",
      "[1 2 3 4 5]\n"
     ]
    }
   ],
   "source": [
    "#copy()\n",
    "original_array=np.array([1,2,3,4,5])\n",
    "print(\"Original array \",original_array)\n",
    "copy_array=original_array.copy()\n",
    "original_array[0]=42\n",
    "print(\"After updation\")\n",
    "print(original_array)\n",
    "print(copy_array)"
   ]
  },
  {
   "cell_type": "code",
   "execution_count": 82,
   "id": "74c98cde",
   "metadata": {},
   "outputs": [
    {
     "name": "stdout",
     "output_type": "stream",
     "text": [
      "Original array  [42  2  3  4  5]\n",
      "After updation\n",
      "[42  2  3  4  5]\n",
      "[42  2  3  4  5]\n"
     ]
    }
   ],
   "source": [
    "#view()\n",
    "original_array1=np.array([1,2,3,4,5])\n",
    "print(\"Original array \",original_array)\n",
    "view_array=original_array.view()\n",
    "original_array1[0]=42\n",
    "print(\"After updation\")\n",
    "print(original_array1)\n",
    "print(view_array)"
   ]
  },
  {
   "cell_type": "markdown",
   "id": "0c220498",
   "metadata": {},
   "source": [
    "## Exercises"
   ]
  },
  {
   "cell_type": "markdown",
   "id": "64e03d39",
   "metadata": {},
   "source": [
    "1.Create a numpy array with 5 elements consisting of random integers between 1 and 100."
   ]
  },
  {
   "cell_type": "code",
   "execution_count": 1,
   "id": "4da2089f",
   "metadata": {},
   "outputs": [],
   "source": [
    "import numpy as np\n",
    "ran_array=np.random.randint(1,101,size=5)"
   ]
  },
  {
   "cell_type": "code",
   "execution_count": 2,
   "id": "7d87616e",
   "metadata": {},
   "outputs": [
    {
     "data": {
      "text/plain": [
       "array([77, 69, 79, 66, 68])"
      ]
     },
     "execution_count": 2,
     "metadata": {},
     "output_type": "execute_result"
    }
   ],
   "source": [
    "ran_array"
   ]
  },
  {
   "cell_type": "markdown",
   "id": "a1460794",
   "metadata": {},
   "source": [
    "2.Create a numpy array containing the numbers from 1 to 10, and\n",
    "#then reshape it to a 2x5 matrix.\n"
   ]
  },
  {
   "cell_type": "code",
   "execution_count": 3,
   "id": "d1b4ac94",
   "metadata": {},
   "outputs": [
    {
     "data": {
      "text/plain": [
       "array([[ 1,  2,  3,  4,  5],\n",
       "       [ 6,  7,  8,  9, 10]])"
      ]
     },
     "execution_count": 3,
     "metadata": {},
     "output_type": "execute_result"
    }
   ],
   "source": [
    "num_array=np.arange(1,11).reshape(2,5)\n",
    "num_array"
   ]
  },
  {
   "cell_type": "markdown",
   "id": "d3498c27",
   "metadata": {},
   "source": [
    "3.Create a numpy array containing the numbers from 1 to 20, and then extract the elements between the 5th and 15th index.\n"
   ]
  },
  {
   "cell_type": "code",
   "execution_count": 5,
   "id": "236b355d",
   "metadata": {},
   "outputs": [
    {
     "name": "stdout",
     "output_type": "stream",
     "text": [
      "Original array :  [ 1  2  3  4  5  6  7  8  9 10 11 12 13 14 15 16 17 18 19 20]\n",
      "Elements between 5th and 15th index : \n",
      "[ 6  7  8  9 10 11 12 13 14 15 16]\n"
     ]
    }
   ],
   "source": [
    "num_array2=np.arange(1,21)\n",
    "print(\"Original array : \",num_array2)\n",
    "print(\"Elements between 5th and 15th index : \")\n",
    "print(num_array2[5:16])"
   ]
  },
  {
   "cell_type": "markdown",
   "id": "f39a73f1",
   "metadata": {},
   "source": [
    "\n",
    "\n",
    "4.Create a numpy array with 10 elements consisting of evenly spaced numbers between 0 and 1.\n"
   ]
  },
  {
   "cell_type": "code",
   "execution_count": 6,
   "id": "17043a8c",
   "metadata": {},
   "outputs": [
    {
     "data": {
      "text/plain": [
       "array([0.        , 0.11111111, 0.22222222, 0.33333333, 0.44444444,\n",
       "       0.55555556, 0.66666667, 0.77777778, 0.88888889, 1.        ])"
      ]
     },
     "execution_count": 6,
     "metadata": {},
     "output_type": "execute_result"
    }
   ],
   "source": [
    "num_array3=np.linspace(0,1,10)\n",
    "num_array3"
   ]
  },
  {
   "cell_type": "markdown",
   "id": "911f1e7f",
   "metadata": {},
   "source": [
    "5.Create a numpy array containing the numbers from 1 to 9, and then square each element in the array.\n"
   ]
  },
  {
   "cell_type": "code",
   "execution_count": 7,
   "id": "704eb26a",
   "metadata": {},
   "outputs": [
    {
     "name": "stdout",
     "output_type": "stream",
     "text": [
      "Original_array : [1 2 3 4 5 6 7 8 9]\n",
      "New array :  [ 1  4  9 16 25 36 49 64 81]\n"
     ]
    }
   ],
   "source": [
    "num_array4=np.arange(1,10)\n",
    "print(\"Original_array :\",num_array4)\n",
    "new_array=num_array4**2\n",
    "print(\"New array : \",new_array)"
   ]
  },
  {
   "cell_type": "code",
   "execution_count": null,
   "id": "6061e1d9",
   "metadata": {},
   "outputs": [],
   "source": []
  }
 ],
 "metadata": {
  "kernelspec": {
   "display_name": "Python 3 (ipykernel)",
   "language": "python",
   "name": "python3"
  },
  "language_info": {
   "codemirror_mode": {
    "name": "ipython",
    "version": 3
   },
   "file_extension": ".py",
   "mimetype": "text/x-python",
   "name": "python",
   "nbconvert_exporter": "python",
   "pygments_lexer": "ipython3",
   "version": "3.11.0"
  }
 },
 "nbformat": 4,
 "nbformat_minor": 5
}
