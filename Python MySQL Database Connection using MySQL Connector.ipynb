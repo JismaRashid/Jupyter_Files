{
 "cells": [
  {
   "cell_type": "markdown",
   "id": "a02ab927",
   "metadata": {},
   "source": [
    "# How to Connect to MySQL Database in Python ?"
   ]
  },
  {
   "cell_type": "markdown",
   "id": "c730ede5",
   "metadata": {},
   "source": [
    "### 1. Install MySQL connector module\n",
    "    pip install mysql-connector-python\n",
    "\n",
    "\n",
    "### 2. Import MySQL connector module\n",
    "    Import using a import mysql.connector statement so you can use this module’s methods to communicate with the MySQL database.\n",
    "\n",
    "\n",
    "### 3. Use the connect() method\n",
    "    Use the connect() method of the MySQL Connector class with the required arguments to connect MySQL. It would return a MySQLConnection object if the connection established successfully\n",
    "\n",
    "\n",
    "### 4. Use the cursor() method\n",
    "    Use the cursor() method of a MySQLConnection object to create a cursor object to perform various SQL operations.\n",
    "\n",
    "\n",
    "### 5. Use the execute() method\n",
    "    The execute() methods run the SQL query and return the result.\n",
    "\n",
    "\n",
    "### 6. Extract result using fetchall()\n",
    "    Use cursor.fetchall() or fetchone() or fetchmany() to read query result.\n",
    "    \n",
    "    fetchall(): Retrieves all rows from a query result set as a list of tuples.\n",
    "\n",
    "    fetchone(): Retrieves the next row from a query result set as a tuple or returns None if there are no more rows.\n",
    "\n",
    "    fetchmany(size): Retrieves the next set of rows (specified by the size parameter) from a query result set as a list of tuples or returns an empty list if there are no more rows.\n",
    "\n",
    "### 7. Close cursor and connection objects\n",
    "    use cursor.clsoe() and connection.clsoe() method to close open connections after your work completes\n",
    "\n"
   ]
  },
  {
   "cell_type": "markdown",
   "id": "12f0a897",
   "metadata": {},
   "source": [
    "<img src=\"python_mysql_connection.png\" width=\"600\">"
   ]
  },
  {
   "cell_type": "code",
   "execution_count": 56,
   "id": "67f3f0bb",
   "metadata": {},
   "outputs": [
    {
     "name": "stdout",
     "output_type": "stream",
     "text": [
      "Requirement already satisfied: mysql-connector-python in c:\\users\\jisma\\appdata\\local\\programs\\python\\python311\\lib\\site-packages (8.2.0)Note: you may need to restart the kernel to use updated packages.\n",
      "\n",
      "Requirement already satisfied: protobuf<=4.21.12,>=4.21.1 in c:\\users\\jisma\\appdata\\local\\programs\\python\\python311\\lib\\site-packages (from mysql-connector-python) (4.21.12)\n"
     ]
    },
    {
     "name": "stderr",
     "output_type": "stream",
     "text": [
      "\n",
      "[notice] A new release of pip available: 22.3 -> 23.3.2\n",
      "[notice] To update, run: python.exe -m pip install --upgrade pip\n"
     ]
    }
   ],
   "source": [
    "pip install mysql-connector-python"
   ]
  },
  {
   "cell_type": "code",
   "execution_count": 57,
   "id": "49a9cd4a",
   "metadata": {},
   "outputs": [],
   "source": [
    "#import\n",
    "import mysql.connector"
   ]
  },
  {
   "cell_type": "code",
   "execution_count": 58,
   "id": "f1e697fe",
   "metadata": {},
   "outputs": [],
   "source": [
    "connection=mysql.connector.connect(host='localhost',user='root',password='root',database='organization')"
   ]
  },
  {
   "cell_type": "code",
   "execution_count": 59,
   "id": "f293280f",
   "metadata": {},
   "outputs": [
    {
     "name": "stdout",
     "output_type": "stream",
     "text": [
      "Connected successfully....\n"
     ]
    }
   ],
   "source": [
    "if connection.is_connected():\n",
    "    print(\"Connected successfully....\")"
   ]
  },
  {
   "cell_type": "code",
   "execution_count": 60,
   "id": "a896537d",
   "metadata": {},
   "outputs": [],
   "source": [
    "cursor=connection.cursor()"
   ]
  },
  {
   "cell_type": "code",
   "execution_count": 61,
   "id": "4898400f",
   "metadata": {},
   "outputs": [
    {
     "data": {
      "text/plain": [
       "<mysql.connector.cursor_cext.CMySQLCursor at 0x26b90663f50>"
      ]
     },
     "execution_count": 61,
     "metadata": {},
     "output_type": "execute_result"
    }
   ],
   "source": [
    "cursor"
   ]
  },
  {
   "cell_type": "code",
   "execution_count": 62,
   "id": "951f45a6",
   "metadata": {},
   "outputs": [],
   "source": [
    "cursor.execute(\"Show tables\")"
   ]
  },
  {
   "cell_type": "code",
   "execution_count": 63,
   "id": "0de7ed10",
   "metadata": {},
   "outputs": [
    {
     "data": {
      "text/plain": [
       "('books',)"
      ]
     },
     "execution_count": 63,
     "metadata": {},
     "output_type": "execute_result"
    }
   ],
   "source": [
    "cursor.fetchone()"
   ]
  },
  {
   "cell_type": "code",
   "execution_count": 64,
   "id": "efa7d78e",
   "metadata": {},
   "outputs": [
    {
     "data": {
      "text/plain": [
       "[('course_details',), ('department',), ('department_details',)]"
      ]
     },
     "execution_count": 64,
     "metadata": {},
     "output_type": "execute_result"
    }
   ],
   "source": [
    "cursor.fetchmany(size=3)"
   ]
  },
  {
   "cell_type": "code",
   "execution_count": 88,
   "id": "c0ac7298",
   "metadata": {},
   "outputs": [],
   "source": [
    "cursor.execute('select * from student')"
   ]
  },
  {
   "cell_type": "code",
   "execution_count": 89,
   "id": "ff778aba",
   "metadata": {},
   "outputs": [],
   "source": [
    "student=cursor.fetchall()"
   ]
  },
  {
   "cell_type": "code",
   "execution_count": 90,
   "id": "2e663561",
   "metadata": {
    "scrolled": false
   },
   "outputs": [
    {
     "name": "stdout",
     "output_type": "stream",
     "text": [
      "(1, 'John', 'Doe', 21, 'f', 'nutrition', 999999999, 24000)\n",
      "(2, 'Jane', 'Smith', 22, 'F', 'photography', 888888888, 35000)\n",
      "(100, 'Alex', 'Johnson', 20, 'M', 'music', 777777777, 45000)\n",
      "(101, 'Emily', 'Davis', 22, 'm', 'music', 666666666, 22000)\n",
      "(102, 'Michael', 'Brown', 22, 'M', 'nutrition', 55555555, 22000)\n",
      "(103, 'Alice', 'Johnson', 20, 'F', 'photography', 444444444, None)\n",
      "(106, 'Hary', 'James', 21, 'F', 'photography', 22222222, 38000)\n",
      "(107, 'Tom', 'Davis', 20, 'F', 'music', 466666666, 28000)\n"
     ]
    }
   ],
   "source": [
    "for s in student:\n",
    "    print(s)"
   ]
  },
  {
   "cell_type": "code",
   "execution_count": 91,
   "id": "f5f1932e",
   "metadata": {},
   "outputs": [
    {
     "name": "stdout",
     "output_type": "stream",
     "text": [
      "<class 'list'>\n"
     ]
    }
   ],
   "source": [
    "print(type(student))"
   ]
  },
  {
   "cell_type": "code",
   "execution_count": 92,
   "id": "c21b0600",
   "metadata": {
    "scrolled": true
   },
   "outputs": [],
   "source": [
    "cursor.execute(\"select concat(fname,' ',lname) from student\")"
   ]
  },
  {
   "cell_type": "code",
   "execution_count": 93,
   "id": "1d85ebb7",
   "metadata": {
    "scrolled": true
   },
   "outputs": [
    {
     "data": {
      "text/plain": [
       "[('John Doe',),\n",
       " ('Jane Smith',),\n",
       " ('Alex Johnson',),\n",
       " ('Emily Davis',),\n",
       " ('Michael Brown',),\n",
       " ('Alice Johnson',),\n",
       " ('Hary James',),\n",
       " ('Tom Davis',)]"
      ]
     },
     "execution_count": 93,
     "metadata": {},
     "output_type": "execute_result"
    }
   ],
   "source": [
    "cursor.fetchall()"
   ]
  },
  {
   "cell_type": "code",
   "execution_count": 94,
   "id": "73ee4539",
   "metadata": {},
   "outputs": [],
   "source": [
    "cursor.execute(\"select fname,elective_course from student\")"
   ]
  },
  {
   "cell_type": "code",
   "execution_count": 101,
   "id": "6f170be7",
   "metadata": {},
   "outputs": [
    {
     "data": {
      "text/plain": [
       "[('John', 'Doe'),\n",
       " ('Jane', 'Smith'),\n",
       " ('Alex', 'Johnson'),\n",
       " ('Emily', 'Davis'),\n",
       " ('Michael', 'Brown'),\n",
       " ('Alice', 'Johnson'),\n",
       " ('Hary', 'James'),\n",
       " ('Tom', 'Davis')]"
      ]
     },
     "execution_count": 101,
     "metadata": {},
     "output_type": "execute_result"
    }
   ],
   "source": [
    "cursor.fetchall()"
   ]
  },
  {
   "cell_type": "code",
   "execution_count": 102,
   "id": "ebb3e5ec",
   "metadata": {},
   "outputs": [
    {
     "data": {
      "text/plain": [
       "[]"
      ]
     },
     "execution_count": 102,
     "metadata": {},
     "output_type": "execute_result"
    }
   ],
   "source": [
    "# As you fetch all , there is nothing to fetch more \n",
    "cursor.fetchall()"
   ]
  },
  {
   "cell_type": "code",
   "execution_count": 103,
   "id": "2307f105",
   "metadata": {},
   "outputs": [],
   "source": [
    "cursor.execute(\"select fname,lname from student\")"
   ]
  },
  {
   "cell_type": "code",
   "execution_count": 104,
   "id": "429f716f",
   "metadata": {
    "scrolled": true
   },
   "outputs": [
    {
     "data": {
      "text/plain": [
       "[('John', 'Doe'),\n",
       " ('Jane', 'Smith'),\n",
       " ('Alex', 'Johnson'),\n",
       " ('Emily', 'Davis'),\n",
       " ('Michael', 'Brown'),\n",
       " ('Alice', 'Johnson'),\n",
       " ('Hary', 'James'),\n",
       " ('Tom', 'Davis')]"
      ]
     },
     "execution_count": 104,
     "metadata": {},
     "output_type": "execute_result"
    }
   ],
   "source": [
    "cursor.fetchall()"
   ]
  },
  {
   "cell_type": "code",
   "execution_count": 105,
   "id": "41bcb2b5",
   "metadata": {},
   "outputs": [],
   "source": [
    "#closing the cursor and connection\n",
    "cursor.close()\n",
    "connection.close()"
   ]
  },
  {
   "cell_type": "markdown",
   "id": "75b94ca7",
   "metadata": {},
   "source": [
    "## commit()\n",
    "\n",
    "- The commit() method in Python is used to save changes made within a database transaction, ensuring that modifications, such as inserts or updates, become permanent.\n",
    "\n",
    "- The syntax involves calling commit() on the database connection object, like this: connection.commit()."
   ]
  },
  {
   "cell_type": "markdown",
   "id": "a86e8ace",
   "metadata": {},
   "source": [
    "## Creating a new database"
   ]
  },
  {
   "cell_type": "code",
   "execution_count": 107,
   "id": "99a1e85c",
   "metadata": {},
   "outputs": [],
   "source": [
    "import mysql.connector\n",
    "\n",
    "# Create a connection\n",
    "connection=mysql.connector.connect(host='localhost',user='root',password='root')\n",
    "\n",
    "# Create a cursor to execute SQL queries\n",
    "cursor = connection.cursor()\n",
    "\n",
    "new_database = \"Library_management_system\"\n",
    "\n",
    "# Create a new database\n",
    "cursor.execute(f\"CREATE DATABASE {new_database}\")\n",
    "\n",
    "# Commit the changes\n",
    "connection.commit()\n",
    "\n",
    "# Close the cursor and connection\n",
    "cursor.close()\n",
    "connection.close()"
   ]
  },
  {
   "cell_type": "markdown",
   "id": "fad12fa9",
   "metadata": {},
   "source": [
    "## Creating a new table"
   ]
  },
  {
   "cell_type": "code",
   "execution_count": 1,
   "id": "7e18625e",
   "metadata": {},
   "outputs": [
    {
     "name": "stdout",
     "output_type": "stream",
     "text": [
      "Connected successfully....\n"
     ]
    }
   ],
   "source": [
    "import mysql.connector\n",
    "\n",
    "# Create a connection\n",
    "connection=mysql.connector.connect(host='localhost',user='root',password='root', database=\"Library_management_system\")\n",
    "\n",
    "if connection.is_connected():\n",
    "    print(\"Connected successfully....\")\n",
    "    \n",
    "# Create a cursor to execute SQL queries\n",
    "cursor = connection.cursor()\n",
    "\n",
    "# Create a new table\n",
    "cursor.execute(\"create table books (id int primary key, name varchar(25))\")\n",
    "\n",
    "# Commit the changes\n",
    "connection.commit()\n",
    "\n",
    "# Close the cursor and connection\n",
    "cursor.close()\n",
    "connection.close()"
   ]
  },
  {
   "cell_type": "markdown",
   "id": "11100ee3",
   "metadata": {},
   "source": [
    "<img src=\"table.png\" width=\"600\">"
   ]
  },
  {
   "cell_type": "markdown",
   "id": "163c6bd6",
   "metadata": {},
   "source": [
    "## Insert values "
   ]
  },
  {
   "cell_type": "code",
   "execution_count": 5,
   "id": "e59ac08f",
   "metadata": {},
   "outputs": [
    {
     "name": "stdout",
     "output_type": "stream",
     "text": [
      "Connected successfully....\n",
      "(101, 'Book A')\n",
      "(102, 'Book B')\n",
      "(103, 'Book C')\n"
     ]
    }
   ],
   "source": [
    "import mysql.connector\n",
    "\n",
    "# Create a connection\n",
    "connection=mysql.connector.connect(host='localhost',user='root',password='root', database=\"Library_management_system\")\n",
    "\n",
    "if connection.is_connected():\n",
    "    print(\"Connected successfully....\")\n",
    "    \n",
    "# Create a cursor to execute SQL queries\n",
    "cursor = connection.cursor()\n",
    "\n",
    "# Create a new table\n",
    "cursor.execute(\"insert into books values(101,'Book A'),(102,'Book B'),(103,'Book C')\")\n",
    "\n",
    "# Commit the changes\n",
    "connection.commit()\n",
    "\n",
    "cursor.execute(\"select * from books\")\n",
    "rows = cursor.fetchall()\n",
    "for row in rows:\n",
    "    print(row)\n",
    "\n",
    "# Close the cursor and connection\n",
    "cursor.close()\n",
    "connection.close()"
   ]
  },
  {
   "cell_type": "markdown",
   "id": "c6463425",
   "metadata": {},
   "source": [
    "<img src=\"books_table.png\" width=500>"
   ]
  },
  {
   "cell_type": "markdown",
   "id": "f78e8164",
   "metadata": {},
   "source": [
    "## Advantages of connecting MySQL with Python\n",
    "\n",
    "Connecting MySQL with Python offers several advantages.\n",
    "\n",
    "- Python, along with libraries like Pandas and NumPy, provides powerful tools for data analysis and manipulation. Once data is retrieved from MySQL, you can use Python for tasks such as filtering, aggregating, and transforming data.\n",
    "\n",
    "- Python has libraries like Matplotlib, Seaborn, and Plotly for creating visualizations. You can use these libraries to visualize data extracted from MySQL, making it easier to interpret and communicate insights."
   ]
  },
  {
   "cell_type": "code",
   "execution_count": 4,
   "id": "9608fb6f",
   "metadata": {
    "scrolled": true
   },
   "outputs": [
    {
     "name": "stdout",
     "output_type": "stream",
     "text": [
      "   rollno    fname    lname  age gender elective_course    contact  f_income\n",
      "0       1     John      Doe   21      f       nutrition  999999999   24000.0\n",
      "1       2     Jane    Smith   22      F     photography  888888888   35000.0\n",
      "2     100     Alex  Johnson   20      M           music  777777777   45000.0\n",
      "3     101    Emily    Davis   22      m           music  666666666   22000.0\n",
      "4     102  Michael    Brown   22      M       nutrition   55555555   22000.0\n"
     ]
    },
    {
     "name": "stderr",
     "output_type": "stream",
     "text": [
      "C:\\Users\\jisma\\AppData\\Local\\Temp\\ipykernel_7384\\3225629289.py:12: UserWarning: pandas only supports SQLAlchemy connectable (engine/connection) or database string URI or sqlite3 DBAPI2 connection. Other DBAPI2 objects are not tested. Please consider using SQLAlchemy.\n",
      "  df = pd.read_sql_query(sql_query, connection)\n"
     ]
    }
   ],
   "source": [
    "# Import necessary libraries\n",
    "import mysql.connector\n",
    "import pandas as pd\n",
    "\n",
    "#connect to mysql database\n",
    "connection=mysql.connector.connect(host='localhost',user='root',password='root',database='organization')\n",
    "\n",
    "# Define a SQL query to retrieve data\n",
    "sql_query = \"SELECT * FROM student\"\n",
    "\n",
    "# Use Pandas to read the data directly into a DataFrame\n",
    "df = pd.read_sql_query(sql_query, connection)\n",
    "\n",
    "# Close the database connection\n",
    "connection.close()\n",
    "\n",
    "# Display the first few rows of the DataFrame\n",
    "print(df.head())"
   ]
  },
  {
   "cell_type": "code",
   "execution_count": 2,
   "id": "37a71407",
   "metadata": {},
   "outputs": [
    {
     "data": {
      "text/html": [
       "<div>\n",
       "<style scoped>\n",
       "    .dataframe tbody tr th:only-of-type {\n",
       "        vertical-align: middle;\n",
       "    }\n",
       "\n",
       "    .dataframe tbody tr th {\n",
       "        vertical-align: top;\n",
       "    }\n",
       "\n",
       "    .dataframe thead th {\n",
       "        text-align: right;\n",
       "    }\n",
       "</style>\n",
       "<table border=\"1\" class=\"dataframe\">\n",
       "  <thead>\n",
       "    <tr style=\"text-align: right;\">\n",
       "      <th></th>\n",
       "      <th>rollno</th>\n",
       "      <th>fname</th>\n",
       "      <th>lname</th>\n",
       "      <th>age</th>\n",
       "      <th>gender</th>\n",
       "      <th>elective_course</th>\n",
       "      <th>contact</th>\n",
       "      <th>f_income</th>\n",
       "    </tr>\n",
       "  </thead>\n",
       "  <tbody>\n",
       "    <tr>\n",
       "      <th>0</th>\n",
       "      <td>1</td>\n",
       "      <td>John</td>\n",
       "      <td>Doe</td>\n",
       "      <td>21</td>\n",
       "      <td>f</td>\n",
       "      <td>nutrition</td>\n",
       "      <td>999999999</td>\n",
       "      <td>24000.0</td>\n",
       "    </tr>\n",
       "    <tr>\n",
       "      <th>1</th>\n",
       "      <td>2</td>\n",
       "      <td>Jane</td>\n",
       "      <td>Smith</td>\n",
       "      <td>22</td>\n",
       "      <td>F</td>\n",
       "      <td>photography</td>\n",
       "      <td>888888888</td>\n",
       "      <td>35000.0</td>\n",
       "    </tr>\n",
       "    <tr>\n",
       "      <th>2</th>\n",
       "      <td>100</td>\n",
       "      <td>Alex</td>\n",
       "      <td>Johnson</td>\n",
       "      <td>20</td>\n",
       "      <td>M</td>\n",
       "      <td>music</td>\n",
       "      <td>777777777</td>\n",
       "      <td>45000.0</td>\n",
       "    </tr>\n",
       "    <tr>\n",
       "      <th>3</th>\n",
       "      <td>101</td>\n",
       "      <td>Emily</td>\n",
       "      <td>Davis</td>\n",
       "      <td>22</td>\n",
       "      <td>m</td>\n",
       "      <td>music</td>\n",
       "      <td>666666666</td>\n",
       "      <td>22000.0</td>\n",
       "    </tr>\n",
       "    <tr>\n",
       "      <th>4</th>\n",
       "      <td>102</td>\n",
       "      <td>Michael</td>\n",
       "      <td>Brown</td>\n",
       "      <td>22</td>\n",
       "      <td>M</td>\n",
       "      <td>nutrition</td>\n",
       "      <td>55555555</td>\n",
       "      <td>22000.0</td>\n",
       "    </tr>\n",
       "    <tr>\n",
       "      <th>5</th>\n",
       "      <td>103</td>\n",
       "      <td>Alice</td>\n",
       "      <td>Johnson</td>\n",
       "      <td>20</td>\n",
       "      <td>F</td>\n",
       "      <td>photography</td>\n",
       "      <td>444444444</td>\n",
       "      <td>NaN</td>\n",
       "    </tr>\n",
       "    <tr>\n",
       "      <th>6</th>\n",
       "      <td>106</td>\n",
       "      <td>Hary</td>\n",
       "      <td>James</td>\n",
       "      <td>21</td>\n",
       "      <td>F</td>\n",
       "      <td>photography</td>\n",
       "      <td>22222222</td>\n",
       "      <td>38000.0</td>\n",
       "    </tr>\n",
       "    <tr>\n",
       "      <th>7</th>\n",
       "      <td>107</td>\n",
       "      <td>Tom</td>\n",
       "      <td>Davis</td>\n",
       "      <td>20</td>\n",
       "      <td>F</td>\n",
       "      <td>music</td>\n",
       "      <td>466666666</td>\n",
       "      <td>28000.0</td>\n",
       "    </tr>\n",
       "  </tbody>\n",
       "</table>\n",
       "</div>"
      ],
      "text/plain": [
       "   rollno    fname    lname  age gender elective_course    contact  f_income\n",
       "0       1     John      Doe   21      f       nutrition  999999999   24000.0\n",
       "1       2     Jane    Smith   22      F     photography  888888888   35000.0\n",
       "2     100     Alex  Johnson   20      M           music  777777777   45000.0\n",
       "3     101    Emily    Davis   22      m           music  666666666   22000.0\n",
       "4     102  Michael    Brown   22      M       nutrition   55555555   22000.0\n",
       "5     103    Alice  Johnson   20      F     photography  444444444       NaN\n",
       "6     106     Hary    James   21      F     photography   22222222   38000.0\n",
       "7     107      Tom    Davis   20      F           music  466666666   28000.0"
      ]
     },
     "execution_count": 2,
     "metadata": {},
     "output_type": "execute_result"
    }
   ],
   "source": [
    "df"
   ]
  },
  {
   "cell_type": "code",
   "execution_count": 6,
   "id": "ac548825",
   "metadata": {},
   "outputs": [
    {
     "name": "stdout",
     "output_type": "stream",
     "text": [
      "<class 'pandas.core.frame.DataFrame'>\n",
      "RangeIndex: 8 entries, 0 to 7\n",
      "Data columns (total 8 columns):\n",
      " #   Column           Non-Null Count  Dtype  \n",
      "---  ------           --------------  -----  \n",
      " 0   rollno           8 non-null      int64  \n",
      " 1   fname            8 non-null      object \n",
      " 2   lname            8 non-null      object \n",
      " 3   age              8 non-null      int64  \n",
      " 4   gender           8 non-null      object \n",
      " 5   elective_course  8 non-null      object \n",
      " 6   contact          8 non-null      int64  \n",
      " 7   f_income         7 non-null      float64\n",
      "dtypes: float64(1), int64(3), object(4)\n",
      "memory usage: 640.0+ bytes\n"
     ]
    }
   ],
   "source": [
    "df.info()"
   ]
  },
  {
   "cell_type": "code",
   "execution_count": 8,
   "id": "887ad719",
   "metadata": {},
   "outputs": [
    {
     "data": {
      "text/plain": [
       "gender\n",
       "F    4\n",
       "M    2\n",
       "f    1\n",
       "m    1\n",
       "Name: count, dtype: int64"
      ]
     },
     "execution_count": 8,
     "metadata": {},
     "output_type": "execute_result"
    }
   ],
   "source": [
    "df['gender'].value_counts()"
   ]
  },
  {
   "cell_type": "code",
   "execution_count": 12,
   "id": "18ea6fc5",
   "metadata": {},
   "outputs": [
    {
     "data": {
      "text/html": [
       "<div>\n",
       "<style scoped>\n",
       "    .dataframe tbody tr th:only-of-type {\n",
       "        vertical-align: middle;\n",
       "    }\n",
       "\n",
       "    .dataframe tbody tr th {\n",
       "        vertical-align: top;\n",
       "    }\n",
       "\n",
       "    .dataframe thead th {\n",
       "        text-align: right;\n",
       "    }\n",
       "</style>\n",
       "<table border=\"1\" class=\"dataframe\">\n",
       "  <thead>\n",
       "    <tr style=\"text-align: right;\">\n",
       "      <th></th>\n",
       "      <th>rollno</th>\n",
       "      <th>fname</th>\n",
       "      <th>lname</th>\n",
       "      <th>age</th>\n",
       "      <th>gender</th>\n",
       "      <th>elective_course</th>\n",
       "      <th>contact</th>\n",
       "      <th>f_income</th>\n",
       "    </tr>\n",
       "  </thead>\n",
       "  <tbody>\n",
       "    <tr>\n",
       "      <th>1</th>\n",
       "      <td>2</td>\n",
       "      <td>Jane</td>\n",
       "      <td>Smith</td>\n",
       "      <td>22</td>\n",
       "      <td>F</td>\n",
       "      <td>photography</td>\n",
       "      <td>888888888</td>\n",
       "      <td>35000.0</td>\n",
       "    </tr>\n",
       "    <tr>\n",
       "      <th>2</th>\n",
       "      <td>100</td>\n",
       "      <td>Alex</td>\n",
       "      <td>Johnson</td>\n",
       "      <td>20</td>\n",
       "      <td>M</td>\n",
       "      <td>music</td>\n",
       "      <td>777777777</td>\n",
       "      <td>45000.0</td>\n",
       "    </tr>\n",
       "    <tr>\n",
       "      <th>4</th>\n",
       "      <td>102</td>\n",
       "      <td>Michael</td>\n",
       "      <td>Brown</td>\n",
       "      <td>22</td>\n",
       "      <td>M</td>\n",
       "      <td>nutrition</td>\n",
       "      <td>55555555</td>\n",
       "      <td>22000.0</td>\n",
       "    </tr>\n",
       "    <tr>\n",
       "      <th>5</th>\n",
       "      <td>103</td>\n",
       "      <td>Alice</td>\n",
       "      <td>Johnson</td>\n",
       "      <td>20</td>\n",
       "      <td>F</td>\n",
       "      <td>photography</td>\n",
       "      <td>444444444</td>\n",
       "      <td>NaN</td>\n",
       "    </tr>\n",
       "    <tr>\n",
       "      <th>6</th>\n",
       "      <td>106</td>\n",
       "      <td>Hary</td>\n",
       "      <td>James</td>\n",
       "      <td>21</td>\n",
       "      <td>F</td>\n",
       "      <td>photography</td>\n",
       "      <td>22222222</td>\n",
       "      <td>38000.0</td>\n",
       "    </tr>\n",
       "    <tr>\n",
       "      <th>7</th>\n",
       "      <td>107</td>\n",
       "      <td>Tom</td>\n",
       "      <td>Davis</td>\n",
       "      <td>20</td>\n",
       "      <td>F</td>\n",
       "      <td>music</td>\n",
       "      <td>466666666</td>\n",
       "      <td>28000.0</td>\n",
       "    </tr>\n",
       "  </tbody>\n",
       "</table>\n",
       "</div>"
      ],
      "text/plain": [
       "   rollno    fname    lname  age gender elective_course    contact  f_income\n",
       "1       2     Jane    Smith   22      F     photography  888888888   35000.0\n",
       "2     100     Alex  Johnson   20      M           music  777777777   45000.0\n",
       "4     102  Michael    Brown   22      M       nutrition   55555555   22000.0\n",
       "5     103    Alice  Johnson   20      F     photography  444444444       NaN\n",
       "6     106     Hary    James   21      F     photography   22222222   38000.0\n",
       "7     107      Tom    Davis   20      F           music  466666666   28000.0"
      ]
     },
     "execution_count": 12,
     "metadata": {},
     "output_type": "execute_result"
    }
   ],
   "source": [
    "df1=df.drop([0,3])\n",
    "df1"
   ]
  },
  {
   "cell_type": "code",
   "execution_count": 13,
   "id": "647abd3a",
   "metadata": {},
   "outputs": [
    {
     "data": {
      "text/plain": [
       "elective_course\n",
       "photography    3\n",
       "music          3\n",
       "nutrition      2\n",
       "Name: count, dtype: int64"
      ]
     },
     "execution_count": 13,
     "metadata": {},
     "output_type": "execute_result"
    }
   ],
   "source": [
    "df['elective_course'].value_counts()"
   ]
  },
  {
   "cell_type": "code",
   "execution_count": 15,
   "id": "568dff75",
   "metadata": {},
   "outputs": [
    {
     "data": {
      "text/plain": [
       "rollno             0\n",
       "fname              0\n",
       "lname              0\n",
       "age                0\n",
       "gender             0\n",
       "elective_course    0\n",
       "contact            0\n",
       "f_income           1\n",
       "dtype: int64"
      ]
     },
     "execution_count": 15,
     "metadata": {},
     "output_type": "execute_result"
    }
   ],
   "source": [
    "df.isnull().sum()"
   ]
  },
  {
   "cell_type": "code",
   "execution_count": 17,
   "id": "e4fece4c",
   "metadata": {},
   "outputs": [
    {
     "data": {
      "image/png": "[encoded data removed]",
      "text/plain": [
       "<Figure size 640x480 with 1 Axes>"
      ]
     },
     "metadata": {},
     "output_type": "display_data"
    }
   ],
   "source": [
    "# Visualize elective course\n",
    "import matplotlib.pyplot as plt \n",
    "import seaborn as sns\n",
    "sns.countplot(x='elective_course', data=df)\n",
    "plt.xlabel('Elective Course')\n",
    "plt.ylabel('Count')\n",
    "plt.show()"
   ]
  },
  {
   "cell_type": "code",
   "execution_count": 21,
   "id": "9aefefec",
   "metadata": {},
   "outputs": [
    {
     "data": {
      "image/png": "[encoded data removed]",
      "text/plain": [
       "<Figure size 640x480 with 1 Axes>"
      ]
     },
     "metadata": {},
     "output_type": "display_data"
    }
   ],
   "source": [
    "# Visualize elective course distribution by gender\n",
    "sns.countplot(x='elective_course', hue='gender', data=df1)\n",
    "plt.title('Elective Course Distribution by Gender')\n",
    "plt.xlabel('Elective Course')\n",
    "plt.ylabel('Count')\n",
    "plt.show()"
   ]
  },
  {
   "cell_type": "code",
   "execution_count": 32,
   "id": "0dd18983",
   "metadata": {},
   "outputs": [
    {
     "data": {
      "image/png": "[encoded data removed]",
      "text/plain": [
       "<Figure size 640x480 with 1 Axes>"
      ]
     },
     "metadata": {},
     "output_type": "display_data"
    }
   ],
   "source": [
    "#visualize frequency distribution of f_income\n",
    "\n",
    "import matplotlib.pyplot as plt\n",
    "\n",
    "income_data = df['f_income'].dropna()\n",
    "\n",
    "plt.hist(income_data,bins=[20000,30000,40000,50000],edgecolor='black')\n",
    "plt.title('Frequency Distribution of Family Income')\n",
    "plt.xlabel('Family Income')\n",
    "plt.ylabel('Frequency')\n",
    "plt.show()"
   ]
  },
  {
   "cell_type": "code",
   "execution_count": null,
   "id": "52c0fe3c",
   "metadata": {},
   "outputs": [],
   "source": []
  }
 ],
 "metadata": {
  "kernelspec": {
   "display_name": "Python 3 (ipykernel)",
   "language": "python",
   "name": "python3"
  },
  "language_info": {
   "codemirror_mode": {
    "name": "ipython",
    "version": 3
   },
   "file_extension": ".py",
   "mimetype": "text/x-python",
   "name": "python",
   "nbconvert_exporter": "python",
   "pygments_lexer": "ipython3",
   "version": "3.11.0"
  }
 },
 "nbformat": 4,
 "nbformat_minor": 5
}
